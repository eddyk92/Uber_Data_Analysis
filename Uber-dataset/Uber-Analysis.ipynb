{
 "cells": [
  {
   "cell_type": "markdown",
   "id": "61bdde34-9aa5-4a70-badf-a9a711edf687",
   "metadata": {},
   "source": [
    "### Uber Data Analysis Visualization \n",
    "In this project I use Uber's NYC rideshare data from May-Sept 2014 to visualize peak days and times for rides across NYC.\n",
    "With this, I can conclude how time affected customer trips and how riders would make various trips from different bases."
   ]
  },
  {
   "cell_type": "code",
   "execution_count": 227,
   "id": "9cf2c84f-aed2-4668-ac39-350653e2eb6d",
   "metadata": {},
   "outputs": [],
   "source": [
    "# Import Libraries\n",
    "import pandas as pd\n",
    "import numpy as np\n",
    "from pandas import DataFrame\n",
    "from subprocess import check_output\n",
    "\n",
    "#Visualization modules\n",
    "import matplotlib.pyplot as plt\n",
    "%matplotlib inline\n",
    "import seaborn as sns\n",
    "\n",
    "#The matplotlib basemap toolkit is a library for plotting 2D data on maps in Python\n",
    "from matplotlib import cm #Colormap\n",
    "\n",
    "#Animation Modules\n",
    "from matplotlib.animation import FuncAnimation\n",
    "import matplotlib.animation as animation\n"
   ]
  },
  {
   "cell_type": "code",
   "execution_count": 256,
   "id": "cda84903-b6cd-4474-aefa-c2e08125a350",
   "metadata": {},
   "outputs": [
    {
     "data": {
      "text/html": [
       "<div>\n",
       "<style scoped>\n",
       "    .dataframe tbody tr th:only-of-type {\n",
       "        vertical-align: middle;\n",
       "    }\n",
       "\n",
       "    .dataframe tbody tr th {\n",
       "        vertical-align: top;\n",
       "    }\n",
       "\n",
       "    .dataframe thead th {\n",
       "        text-align: right;\n",
       "    }\n",
       "</style>\n",
       "<table border=\"1\" class=\"dataframe\">\n",
       "  <thead>\n",
       "    <tr style=\"text-align: right;\">\n",
       "      <th></th>\n",
       "      <th>Date/Time</th>\n",
       "      <th>Lat</th>\n",
       "      <th>Lon</th>\n",
       "      <th>Base</th>\n",
       "    </tr>\n",
       "  </thead>\n",
       "  <tbody>\n",
       "    <tr>\n",
       "      <th>0</th>\n",
       "      <td>4/1/2014 0:11:00</td>\n",
       "      <td>40.7690</td>\n",
       "      <td>-73.9549</td>\n",
       "      <td>B02512</td>\n",
       "    </tr>\n",
       "    <tr>\n",
       "      <th>1</th>\n",
       "      <td>4/1/2014 0:17:00</td>\n",
       "      <td>40.7267</td>\n",
       "      <td>-74.0345</td>\n",
       "      <td>B02512</td>\n",
       "    </tr>\n",
       "    <tr>\n",
       "      <th>2</th>\n",
       "      <td>4/1/2014 0:21:00</td>\n",
       "      <td>40.7316</td>\n",
       "      <td>-73.9873</td>\n",
       "      <td>B02512</td>\n",
       "    </tr>\n",
       "    <tr>\n",
       "      <th>3</th>\n",
       "      <td>4/1/2014 0:28:00</td>\n",
       "      <td>40.7588</td>\n",
       "      <td>-73.9776</td>\n",
       "      <td>B02512</td>\n",
       "    </tr>\n",
       "    <tr>\n",
       "      <th>4</th>\n",
       "      <td>4/1/2014 0:33:00</td>\n",
       "      <td>40.7594</td>\n",
       "      <td>-73.9722</td>\n",
       "      <td>B02512</td>\n",
       "    </tr>\n",
       "  </tbody>\n",
       "</table>\n",
       "</div>"
      ],
      "text/plain": [
       "          Date/Time      Lat      Lon    Base\n",
       "0  4/1/2014 0:11:00  40.7690 -73.9549  B02512\n",
       "1  4/1/2014 0:17:00  40.7267 -74.0345  B02512\n",
       "2  4/1/2014 0:21:00  40.7316 -73.9873  B02512\n",
       "3  4/1/2014 0:28:00  40.7588 -73.9776  B02512\n",
       "4  4/1/2014 0:33:00  40.7594 -73.9722  B02512"
      ]
     },
     "execution_count": 256,
     "metadata": {},
     "output_type": "execute_result"
    }
   ],
   "source": [
    "# Import Data files\n",
    "apr_data = pd.read_csv('uber-raw-data-apr14.csv')\n",
    "may_data = pd.read_csv('uber-raw-data-may14.csv')\n",
    "jun_data = pd.read_csv('uber-raw-data-jun14.csv')\n",
    "jull_data = pd.read_csv('uber-raw-data-jul14.csv')\n",
    "aug_data = pd.read_csv('uber-raw-data-aug14.csv')\n",
    "sep_data = pd.read_csv('uber-raw-data-sep14.csv')\n",
    "\n",
    "# Combind Data files to one database\n",
    "df = pd.concat([apr_data, may_data, jun_data, jull_data, aug_data, sep_data])\n",
    "df.head()"
   ]
  },
  {
   "cell_type": "code",
   "execution_count": 260,
   "id": "9e6eb71d-8032-4446-aa5c-15071d5d686b",
   "metadata": {},
   "outputs": [
    {
     "data": {
      "text/html": [
       "<div>\n",
       "<style scoped>\n",
       "    .dataframe tbody tr th:only-of-type {\n",
       "        vertical-align: middle;\n",
       "    }\n",
       "\n",
       "    .dataframe tbody tr th {\n",
       "        vertical-align: top;\n",
       "    }\n",
       "\n",
       "    .dataframe thead th {\n",
       "        text-align: right;\n",
       "    }\n",
       "</style>\n",
       "<table border=\"1\" class=\"dataframe\">\n",
       "  <thead>\n",
       "    <tr style=\"text-align: right;\">\n",
       "      <th></th>\n",
       "      <th>Date/Time</th>\n",
       "      <th>Lat</th>\n",
       "      <th>Lon</th>\n",
       "      <th>Base</th>\n",
       "      <th>Day</th>\n",
       "      <th>WeekDay</th>\n",
       "      <th>MonthDay</th>\n",
       "      <th>Month</th>\n",
       "      <th>Year</th>\n",
       "      <th>Hour</th>\n",
       "      <th>Minute</th>\n",
       "    </tr>\n",
       "  </thead>\n",
       "  <tbody>\n",
       "    <tr>\n",
       "      <th>0</th>\n",
       "      <td>2014-04-01 00:11:00</td>\n",
       "      <td>40.7690</td>\n",
       "      <td>-73.9549</td>\n",
       "      <td>B02512</td>\n",
       "      <td>1</td>\n",
       "      <td>Tuesday</td>\n",
       "      <td>1</td>\n",
       "      <td>4</td>\n",
       "      <td>2014</td>\n",
       "      <td>0</td>\n",
       "      <td>11</td>\n",
       "    </tr>\n",
       "    <tr>\n",
       "      <th>1</th>\n",
       "      <td>2014-04-01 00:17:00</td>\n",
       "      <td>40.7267</td>\n",
       "      <td>-74.0345</td>\n",
       "      <td>B02512</td>\n",
       "      <td>1</td>\n",
       "      <td>Tuesday</td>\n",
       "      <td>1</td>\n",
       "      <td>4</td>\n",
       "      <td>2014</td>\n",
       "      <td>0</td>\n",
       "      <td>17</td>\n",
       "    </tr>\n",
       "    <tr>\n",
       "      <th>2</th>\n",
       "      <td>2014-04-01 00:21:00</td>\n",
       "      <td>40.7316</td>\n",
       "      <td>-73.9873</td>\n",
       "      <td>B02512</td>\n",
       "      <td>1</td>\n",
       "      <td>Tuesday</td>\n",
       "      <td>1</td>\n",
       "      <td>4</td>\n",
       "      <td>2014</td>\n",
       "      <td>0</td>\n",
       "      <td>21</td>\n",
       "    </tr>\n",
       "    <tr>\n",
       "      <th>3</th>\n",
       "      <td>2014-04-01 00:28:00</td>\n",
       "      <td>40.7588</td>\n",
       "      <td>-73.9776</td>\n",
       "      <td>B02512</td>\n",
       "      <td>1</td>\n",
       "      <td>Tuesday</td>\n",
       "      <td>1</td>\n",
       "      <td>4</td>\n",
       "      <td>2014</td>\n",
       "      <td>0</td>\n",
       "      <td>28</td>\n",
       "    </tr>\n",
       "    <tr>\n",
       "      <th>4</th>\n",
       "      <td>2014-04-01 00:33:00</td>\n",
       "      <td>40.7594</td>\n",
       "      <td>-73.9722</td>\n",
       "      <td>B02512</td>\n",
       "      <td>1</td>\n",
       "      <td>Tuesday</td>\n",
       "      <td>1</td>\n",
       "      <td>4</td>\n",
       "      <td>2014</td>\n",
       "      <td>0</td>\n",
       "      <td>33</td>\n",
       "    </tr>\n",
       "  </tbody>\n",
       "</table>\n",
       "</div>"
      ],
      "text/plain": [
       "            Date/Time      Lat      Lon    Base  Day  WeekDay  MonthDay  \\\n",
       "0 2014-04-01 00:11:00  40.7690 -73.9549  B02512    1  Tuesday         1   \n",
       "1 2014-04-01 00:17:00  40.7267 -74.0345  B02512    1  Tuesday         1   \n",
       "2 2014-04-01 00:21:00  40.7316 -73.9873  B02512    1  Tuesday         1   \n",
       "3 2014-04-01 00:28:00  40.7588 -73.9776  B02512    1  Tuesday         1   \n",
       "4 2014-04-01 00:33:00  40.7594 -73.9722  B02512    1  Tuesday         1   \n",
       "\n",
       "   Month  Year  Hour  Minute  \n",
       "0      4  2014     0      11  \n",
       "1      4  2014     0      17  \n",
       "2      4  2014     0      21  \n",
       "3      4  2014     0      28  \n",
       "4      4  2014     0      33  "
      ]
     },
     "execution_count": 260,
     "metadata": {},
     "output_type": "execute_result"
    }
   ],
   "source": [
    "# Convert str object to date\n",
    "df['Date/Time'] = pd.to_datetime(df['Date/Time'], format='%m/%d/%Y %H:%M:%S')\n",
    "# ADD coloumns for time and days\n",
    "df['Day'] = df['Date/Time'].dt.dayofweek\n",
    "df['WeekDay'] = df['Date/Time'].dt.day_name()\n",
    "df['MonthDay'] = df['Date/Time'].dt.day\n",
    "df['Month'] = df['Date/Time'].dt.month\n",
    "df['Year'] = df['Date/Time'].dt.year\n",
    "df['Hour'] = df['Date/Time'].dt.hour\n",
    "df['Minute'] = df['Date/Time'].dt.minute\n",
    "df.head()"
   ]
  },
  {
   "cell_type": "code",
   "execution_count": 240,
   "id": "dbf5bc85-d618-4ed0-9c2b-25c8c2ed93fd",
   "metadata": {},
   "outputs": [
    {
     "data": {
      "text/html": [
       "<div>\n",
       "<style scoped>\n",
       "    .dataframe tbody tr th:only-of-type {\n",
       "        vertical-align: middle;\n",
       "    }\n",
       "\n",
       "    .dataframe tbody tr th {\n",
       "        vertical-align: top;\n",
       "    }\n",
       "\n",
       "    .dataframe thead th {\n",
       "        text-align: right;\n",
       "    }\n",
       "</style>\n",
       "<table border=\"1\" class=\"dataframe\">\n",
       "  <thead>\n",
       "    <tr style=\"text-align: right;\">\n",
       "      <th></th>\n",
       "      <th>Base</th>\n",
       "    </tr>\n",
       "    <tr>\n",
       "      <th>WeekDay</th>\n",
       "      <th></th>\n",
       "    </tr>\n",
       "  </thead>\n",
       "  <tbody>\n",
       "    <tr>\n",
       "      <th>Friday</th>\n",
       "      <td>741139</td>\n",
       "    </tr>\n",
       "    <tr>\n",
       "      <th>Monday</th>\n",
       "      <td>541472</td>\n",
       "    </tr>\n",
       "    <tr>\n",
       "      <th>Saturday</th>\n",
       "      <td>646114</td>\n",
       "    </tr>\n",
       "    <tr>\n",
       "      <th>Sunday</th>\n",
       "      <td>490180</td>\n",
       "    </tr>\n",
       "    <tr>\n",
       "      <th>Thursday</th>\n",
       "      <td>755145</td>\n",
       "    </tr>\n",
       "  </tbody>\n",
       "</table>\n",
       "</div>"
      ],
      "text/plain": [
       "            Base\n",
       "WeekDay         \n",
       "Friday    741139\n",
       "Monday    541472\n",
       "Saturday  646114\n",
       "Sunday    490180\n",
       "Thursday  755145"
      ]
     },
     "execution_count": 240,
     "metadata": {},
     "output_type": "execute_result"
    }
   ],
   "source": [
    "# Create pivot table for days\n",
    "weekday = df.pivot_table(index=['WeekDay'], values='Base', aggfunc='count')\n",
    "weekday.head()"
   ]
  },
  {
   "cell_type": "code",
   "execution_count": 241,
   "id": "79da3a77-683e-4ef1-825d-041621798400",
   "metadata": {},
   "outputs": [
    {
     "data": {
      "text/html": [
       "<div>\n",
       "<style scoped>\n",
       "    .dataframe tbody tr th:only-of-type {\n",
       "        vertical-align: middle;\n",
       "    }\n",
       "\n",
       "    .dataframe tbody tr th {\n",
       "        vertical-align: top;\n",
       "    }\n",
       "\n",
       "    .dataframe thead th {\n",
       "        text-align: right;\n",
       "    }\n",
       "</style>\n",
       "<table border=\"1\" class=\"dataframe\">\n",
       "  <thead>\n",
       "    <tr style=\"text-align: right;\">\n",
       "      <th></th>\n",
       "      <th>Base</th>\n",
       "    </tr>\n",
       "    <tr>\n",
       "      <th>WeekDay</th>\n",
       "      <th></th>\n",
       "    </tr>\n",
       "  </thead>\n",
       "  <tbody>\n",
       "    <tr>\n",
       "      <th>Friday</th>\n",
       "      <td>24704.633333</td>\n",
       "    </tr>\n",
       "    <tr>\n",
       "      <th>Monday</th>\n",
       "      <td>18049.066667</td>\n",
       "    </tr>\n",
       "    <tr>\n",
       "      <th>Saturday</th>\n",
       "      <td>21537.133333</td>\n",
       "    </tr>\n",
       "    <tr>\n",
       "      <th>Sunday</th>\n",
       "      <td>16339.333333</td>\n",
       "    </tr>\n",
       "    <tr>\n",
       "      <th>Thursday</th>\n",
       "      <td>25171.500000</td>\n",
       "    </tr>\n",
       "  </tbody>\n",
       "</table>\n",
       "</div>"
      ],
      "text/plain": [
       "                  Base\n",
       "WeekDay               \n",
       "Friday    24704.633333\n",
       "Monday    18049.066667\n",
       "Saturday  21537.133333\n",
       "Sunday    16339.333333\n",
       "Thursday  25171.500000"
      ]
     },
     "execution_count": 241,
     "metadata": {},
     "output_type": "execute_result"
    }
   ],
   "source": [
    "weekdayAvg = weekday/30\n",
    "weekdayAvg.head()"
   ]
  },
  {
   "cell_type": "code",
   "execution_count": 242,
   "id": "90014ef1-74d0-48ea-a8fe-cc5681d5e1d5",
   "metadata": {},
   "outputs": [
    {
     "data": {
      "text/plain": [
       "Text(0.5, 0, 'Average Rides Per Day VS Day of Week')"
      ]
     },
     "execution_count": 242,
     "metadata": {},
     "output_type": "execute_result"
    },
    {
     "data": {
      "image/png": "[encoded data removed]",
      "text/plain": [
       "<Figure size 432x288 with 1 Axes>"
      ]
     },
     "metadata": {
      "needs_background": "light"
     },
     "output_type": "display_data"
    }
   ],
   "source": [
    "weekdayAvg.plot(kind='bar')\n",
    "plt.ylabel('Average Rides Per Day')\n",
    "plt.xlabel('Average Rides Per Day VS Day of Week')"
   ]
  },
  {
   "cell_type": "code",
   "execution_count": 243,
   "id": "1d1893e4-db83-4983-a881-b5cbcb22833a",
   "metadata": {},
   "outputs": [
    {
     "data": {
      "text/plain": [
       "Text(0.5, 0, 'Number of Rides VS Hour of Day')"
      ]
     },
     "execution_count": 243,
     "metadata": {},
     "output_type": "execute_result"
    },
    {
     "data": {
      "image/png": "[encoded data removed]",
      "text/plain": [
       "<Figure size 432x288 with 1 Axes>"
      ]
     },
     "metadata": {
      "needs_background": "light"
     },
     "output_type": "display_data"
    }
   ],
   "source": [
    "# Bar Chart of Avg Rides During the Day\n",
    "# Create pivot table for hours\n",
    "hours = df.pivot_table(index=['Hour'], values='Base', aggfunc='count')\n",
    "hours/30\n",
    "hours.plot(kind='bar')\n",
    "plt.ylabel('Number of Rides')\n",
    "plt.xlabel('Number of Rides VS Hour of Day')"
   ]
  },
  {
   "cell_type": "code",
   "execution_count": 244,
   "id": "77fd810f-9001-4c19-9515-46ec91dd56f5",
   "metadata": {},
   "outputs": [
    {
     "data": {
      "text/plain": [
       "<AxesSubplot:xlabel='Hour'>"
      ]
     },
     "execution_count": 244,
     "metadata": {},
     "output_type": "execute_result"
    },
    {
     "data": {
      "image/png": "[encoded data removed]",
      "text/plain": [
       "<Figure size 432x288 with 1 Axes>"
      ]
     },
     "metadata": {
      "needs_background": "light"
     },
     "output_type": "display_data"
    }
   ],
   "source": [
    "# Bar Chart of Average Time of Rides\n",
    "avgHours = hours/30\n",
    "avgHours.plot(kind='bar')"
   ]
  },
  {
   "cell_type": "code",
   "execution_count": 255,
   "id": "c1414779-9a9c-4112-b9a3-d9554c595fbd",
   "metadata": {},
   "outputs": [
    {
     "data": {
      "text/plain": [
       "Text(0.5, 0, 'Number of Rides')"
      ]
     },
     "execution_count": 255,
     "metadata": {},
     "output_type": "execute_result"
    },
    {
     "data": {
      "image/png": "[encoded data removed]",
      "text/plain": [
       "<Figure size 2160x1440 with 1 Axes>"
      ]
     },
     "metadata": {
      "needs_background": "light"
     },
     "output_type": "display_data"
    }
   ],
   "source": [
    "# Trips by Hour and Month\n",
    "df.groupby('Month').Hour.value_counts().unstack(0).plot.barh(width=.85)\n",
    "plt.rcParams[\"figure.figsize\"] = [10, 5]\n",
    "plt.title('Trips By Time and Month')\n",
    "plt.ylabel('Hour of Day')\n",
    "plt.xlabel('Number of Rides')"
   ]
  },
  {
   "cell_type": "code",
   "execution_count": 261,
   "id": "4343462a-6dbc-4c17-a15b-ea3ee2222df6",
   "metadata": {},
   "outputs": [
    {
     "data": {
      "text/html": [
       "<div>\n",
       "<style scoped>\n",
       "    .dataframe tbody tr th:only-of-type {\n",
       "        vertical-align: middle;\n",
       "    }\n",
       "\n",
       "    .dataframe tbody tr th {\n",
       "        vertical-align: top;\n",
       "    }\n",
       "\n",
       "    .dataframe thead th {\n",
       "        text-align: right;\n",
       "    }\n",
       "</style>\n",
       "<table border=\"1\" class=\"dataframe\">\n",
       "  <thead>\n",
       "    <tr style=\"text-align: right;\">\n",
       "      <th></th>\n",
       "      <th>Base</th>\n",
       "    </tr>\n",
       "    <tr>\n",
       "      <th>MonthDay</th>\n",
       "      <th></th>\n",
       "    </tr>\n",
       "  </thead>\n",
       "  <tbody>\n",
       "    <tr>\n",
       "      <th>1</th>\n",
       "      <td>4247.666667</td>\n",
       "    </tr>\n",
       "    <tr>\n",
       "      <th>2</th>\n",
       "      <td>4773.366667</td>\n",
       "    </tr>\n",
       "    <tr>\n",
       "      <th>3</th>\n",
       "      <td>4766.100000</td>\n",
       "    </tr>\n",
       "    <tr>\n",
       "      <th>4</th>\n",
       "      <td>4697.433333</td>\n",
       "    </tr>\n",
       "    <tr>\n",
       "      <th>5</th>\n",
       "      <td>4901.800000</td>\n",
       "    </tr>\n",
       "    <tr>\n",
       "      <th>6</th>\n",
       "      <td>4662.866667</td>\n",
       "    </tr>\n",
       "    <tr>\n",
       "      <th>7</th>\n",
       "      <td>4783.433333</td>\n",
       "    </tr>\n",
       "    <tr>\n",
       "      <th>8</th>\n",
       "      <td>4866.133333</td>\n",
       "    </tr>\n",
       "    <tr>\n",
       "      <th>9</th>\n",
       "      <td>5171.166667</td>\n",
       "    </tr>\n",
       "    <tr>\n",
       "      <th>10</th>\n",
       "      <td>5083.333333</td>\n",
       "    </tr>\n",
       "    <tr>\n",
       "      <th>11</th>\n",
       "      <td>4962.000000</td>\n",
       "    </tr>\n",
       "    <tr>\n",
       "      <th>12</th>\n",
       "      <td>5353.533333</td>\n",
       "    </tr>\n",
       "    <tr>\n",
       "      <th>13</th>\n",
       "      <td>5229.733333</td>\n",
       "    </tr>\n",
       "    <tr>\n",
       "      <th>14</th>\n",
       "      <td>4671.600000</td>\n",
       "    </tr>\n",
       "    <tr>\n",
       "      <th>15</th>\n",
       "      <td>5124.200000</td>\n",
       "    </tr>\n",
       "    <tr>\n",
       "      <th>16</th>\n",
       "      <td>5297.366667</td>\n",
       "    </tr>\n",
       "    <tr>\n",
       "      <th>17</th>\n",
       "      <td>5084.133333</td>\n",
       "    </tr>\n",
       "    <tr>\n",
       "      <th>18</th>\n",
       "      <td>5043.966667</td>\n",
       "    </tr>\n",
       "    <tr>\n",
       "      <th>19</th>\n",
       "      <td>5102.933333</td>\n",
       "    </tr>\n",
       "    <tr>\n",
       "      <th>20</th>\n",
       "      <td>4805.966667</td>\n",
       "    </tr>\n",
       "    <tr>\n",
       "      <th>21</th>\n",
       "      <td>4703.733333</td>\n",
       "    </tr>\n",
       "    <tr>\n",
       "      <th>22</th>\n",
       "      <td>4898.400000</td>\n",
       "    </tr>\n",
       "    <tr>\n",
       "      <th>23</th>\n",
       "      <td>5201.066667</td>\n",
       "    </tr>\n",
       "    <tr>\n",
       "      <th>24</th>\n",
       "      <td>4805.633333</td>\n",
       "    </tr>\n",
       "    <tr>\n",
       "      <th>25</th>\n",
       "      <td>5088.900000</td>\n",
       "    </tr>\n",
       "    <tr>\n",
       "      <th>26</th>\n",
       "      <td>5113.500000</td>\n",
       "    </tr>\n",
       "    <tr>\n",
       "      <th>27</th>\n",
       "      <td>4855.066667</td>\n",
       "    </tr>\n",
       "    <tr>\n",
       "      <th>28</th>\n",
       "      <td>4705.233333</td>\n",
       "    </tr>\n",
       "    <tr>\n",
       "      <th>29</th>\n",
       "      <td>4969.533333</td>\n",
       "    </tr>\n",
       "    <tr>\n",
       "      <th>30</th>\n",
       "      <td>5572.000000</td>\n",
       "    </tr>\n",
       "    <tr>\n",
       "      <th>31</th>\n",
       "      <td>2602.433333</td>\n",
       "    </tr>\n",
       "  </tbody>\n",
       "</table>\n",
       "</div>"
      ],
      "text/plain": [
       "                 Base\n",
       "MonthDay             \n",
       "1         4247.666667\n",
       "2         4773.366667\n",
       "3         4766.100000\n",
       "4         4697.433333\n",
       "5         4901.800000\n",
       "6         4662.866667\n",
       "7         4783.433333\n",
       "8         4866.133333\n",
       "9         5171.166667\n",
       "10        5083.333333\n",
       "11        4962.000000\n",
       "12        5353.533333\n",
       "13        5229.733333\n",
       "14        4671.600000\n",
       "15        5124.200000\n",
       "16        5297.366667\n",
       "17        5084.133333\n",
       "18        5043.966667\n",
       "19        5102.933333\n",
       "20        4805.966667\n",
       "21        4703.733333\n",
       "22        4898.400000\n",
       "23        5201.066667\n",
       "24        4805.633333\n",
       "25        5088.900000\n",
       "26        5113.500000\n",
       "27        4855.066667\n",
       "28        4705.233333\n",
       "29        4969.533333\n",
       "30        5572.000000\n",
       "31        2602.433333"
      ]
     },
     "execution_count": 261,
     "metadata": {},
     "output_type": "execute_result"
    }
   ],
   "source": [
    "# Return Total Rides for Each Day of Month\n",
    "RidesEachDay = df.pivot_table(index=['MonthDay'], values='Base', aggfunc='count')\n",
    "RidesEachDay/30"
   ]
  },
  {
   "cell_type": "code",
   "execution_count": 262,
   "id": "3795181b-aff1-4444-8f16-38b8b5546936",
   "metadata": {},
   "outputs": [
    {
     "data": {
      "text/plain": [
       "Text(0.5, 0, 'Number of Rides VS Day of Month')"
      ]
     },
     "execution_count": 262,
     "metadata": {},
     "output_type": "execute_result"
    },
    {
     "data": {
      "image/png": "[encoded data removed]",
      "text/plain": [
       "<Figure size 720x360 with 1 Axes>"
      ]
     },
     "metadata": {
      "needs_background": "light"
     },
     "output_type": "display_data"
    }
   ],
   "source": [
    "# Total Trips Everyday\n",
    "RidesEachDay.plot(kind='bar')\n",
    "plt.ylabel('Number of Rides')\n",
    "plt.xlabel('Number of Rides VS Day of Month')"
   ]
  },
  {
   "cell_type": "code",
   "execution_count": 265,
   "id": "2423542f-c188-4263-a053-d6c3cb3d0030",
   "metadata": {},
   "outputs": [
    {
     "data": {
      "text/plain": [
       "Text(0.5, 0, 'Number of Rides')"
      ]
     },
     "execution_count": 265,
     "metadata": {},
     "output_type": "execute_result"
    },
    {
     "data": {
      "image/png": "[encoded data removed]",
      "text/plain": [
       "<Figure size 1800x1080 with 1 Axes>"
      ]
     },
     "metadata": {
      "needs_background": "light"
     },
     "output_type": "display_data"
    }
   ],
   "source": [
    "# Trips By Day and Month\n",
    "df.groupby('WeekDay').Month.value_counts().unstack(0).plot.barh(width=0.8)\n",
    "plt.rcParams[\"figure.figsize\"] = [20, 15]\n",
    "plt.title('Trips By Day and Month')\n",
    "plt.ylabel('Month')\n",
    "plt.xlabel('Number of Rides')"
   ]
  },
  {
   "cell_type": "code",
   "execution_count": 266,
   "id": "d2089d15-b606-4632-9193-ea198f02d074",
   "metadata": {},
   "outputs": [
    {
     "data": {
      "text/plain": [
       "Year  Month\n",
       "2014  9        1028136\n",
       "      8         829275\n",
       "      7         796121\n",
       "      6         663844\n",
       "      5         652435\n",
       "      4         564516\n",
       "Name: Month, dtype: int64"
      ]
     },
     "execution_count": 266,
     "metadata": {},
     "output_type": "execute_result"
    }
   ],
   "source": [
    "# Return Total Trips Taking Place in Each Month During a Year\n",
    "rides_month_year = df.groupby('Year').Month.value_counts()\n",
    "rides_month_year"
   ]
  },
  {
   "cell_type": "code",
   "execution_count": 269,
   "id": "1e65da38-a383-4e24-aef8-5e530f7a9ea7",
   "metadata": {},
   "outputs": [
    {
     "data": {
      "text/plain": [
       "Text(0.5, 0, 'Month')"
      ]
     },
     "execution_count": 269,
     "metadata": {},
     "output_type": "execute_result"
    },
    {
     "data": {
      "image/png": "[encoded data removed]",
      "text/plain": [
       "<Figure size 720x360 with 1 Axes>"
      ]
     },
     "metadata": {
      "needs_background": "light"
     },
     "output_type": "display_data"
    }
   ],
   "source": [
    "# Trips By Month\n",
    "RidesEachMonth = df.pivot_table(index=['Month'], values='Base', aggfunc='count')\n",
    "RidesEachMonth\n",
    "RidesEachMonth.plot(kind='bar')\n",
    "plt.rcParams[\"figure.figsize\"] = [5, 2]\n",
    "plt.title('Total Rides In A Month')\n",
    "plt.ylabel('Number of Rides')\n",
    "plt.xlabel('Month')"
   ]
  },
  {
   "cell_type": "code",
   "execution_count": 270,
   "id": "477018c1-c691-487e-afa0-64ce6b6292e7",
   "metadata": {},
   "outputs": [
    {
     "data": {
      "text/html": [
       "<div>\n",
       "<style scoped>\n",
       "    .dataframe tbody tr th:only-of-type {\n",
       "        vertical-align: middle;\n",
       "    }\n",
       "\n",
       "    .dataframe tbody tr th {\n",
       "        vertical-align: top;\n",
       "    }\n",
       "\n",
       "    .dataframe thead th {\n",
       "        text-align: right;\n",
       "    }\n",
       "</style>\n",
       "<table border=\"1\" class=\"dataframe\">\n",
       "  <thead>\n",
       "    <tr style=\"text-align: right;\">\n",
       "      <th></th>\n",
       "      <th>Year</th>\n",
       "    </tr>\n",
       "    <tr>\n",
       "      <th>Base</th>\n",
       "      <th></th>\n",
       "    </tr>\n",
       "  </thead>\n",
       "  <tbody>\n",
       "    <tr>\n",
       "      <th>B02512</th>\n",
       "      <td>205673</td>\n",
       "    </tr>\n",
       "    <tr>\n",
       "      <th>B02598</th>\n",
       "      <td>1393113</td>\n",
       "    </tr>\n",
       "    <tr>\n",
       "      <th>B02617</th>\n",
       "      <td>1458853</td>\n",
       "    </tr>\n",
       "    <tr>\n",
       "      <th>B02682</th>\n",
       "      <td>1212789</td>\n",
       "    </tr>\n",
       "    <tr>\n",
       "      <th>B02764</th>\n",
       "      <td>263899</td>\n",
       "    </tr>\n",
       "  </tbody>\n",
       "</table>\n",
       "</div>"
      ],
      "text/plain": [
       "           Year\n",
       "Base           \n",
       "B02512   205673\n",
       "B02598  1393113\n",
       "B02617  1458853\n",
       "B02682  1212789\n",
       "B02764   263899"
      ]
     },
     "execution_count": 270,
     "metadata": {},
     "output_type": "execute_result"
    }
   ],
   "source": [
    "# Trips By Base \n",
    "rides_base = df.pivot_table(index=['Base'], values='Year', aggfunc='count')\n",
    "rides_base"
   ]
  },
  {
   "cell_type": "code",
   "execution_count": 271,
   "id": "575c2c16-9f77-4df6-8796-2d833424279c",
   "metadata": {},
   "outputs": [
    {
     "data": {
      "text/plain": [
       "Base    Month\n",
       "B02512  5         36765\n",
       "        4         35536\n",
       "        7         35021\n",
       "        9         34370\n",
       "        6         32509\n",
       "        8         31472\n",
       "B02598  5        260549\n",
       "        7        245597\n",
       "        6        242975\n",
       "        9        240600\n",
       "        8        220129\n",
       "        4        183263\n",
       "B02617  9        377695\n",
       "        8        355803\n",
       "        7        310160\n",
       "        6        184460\n",
       "        5        122734\n",
       "        4        108001\n",
       "B02682  4        227808\n",
       "        5        222883\n",
       "        9        197138\n",
       "        7        196754\n",
       "        6        194926\n",
       "        8        173280\n",
       "B02764  9        178333\n",
       "        8         48591\n",
       "        4          9908\n",
       "        5          9504\n",
       "        6          8974\n",
       "        7          8589\n",
       "Name: Month, dtype: int64"
      ]
     },
     "execution_count": 271,
     "metadata": {},
     "output_type": "execute_result"
    }
   ],
   "source": [
    "# Trips By Base and Month\n",
    "rides_base_month = df.groupby('Base').Month.value_counts()\n",
    "rides_base_month"
   ]
  },
  {
   "cell_type": "code",
   "execution_count": 272,
   "id": "1828cb50-0d88-4794-8b29-8a683545efc7",
   "metadata": {},
   "outputs": [
    {
     "data": {
      "text/plain": [
       "Base    WeekDay  \n",
       "B02512  Thursday      35032\n",
       "        Friday        33319\n",
       "        Wednesday     32929\n",
       "        Tuesday       31670\n",
       "        Saturday      26773\n",
       "        Monday        25460\n",
       "        Sunday        20490\n",
       "B02598  Thursday     235157\n",
       "        Friday       229908\n",
       "        Wednesday    216644\n",
       "        Tuesday      202378\n",
       "        Saturday     198832\n",
       "        Monday       163542\n",
       "        Sunday       146652\n",
       "B02617  Thursday     240216\n",
       "        Friday       234379\n",
       "        Wednesday    222669\n",
       "        Tuesday      214167\n",
       "        Saturday     206554\n",
       "        Monday       176416\n",
       "        Sunday       164452\n",
       "B02682  Thursday     205091\n",
       "        Friday       201594\n",
       "        Wednesday    189863\n",
       "        Tuesday      176198\n",
       "        Saturday     170160\n",
       "        Monday       143372\n",
       "        Sunday       126511\n",
       "B02764  Saturday      43795\n",
       "        Friday        41939\n",
       "        Thursday      39649\n",
       "        Tuesday       39376\n",
       "        Wednesday     34383\n",
       "        Monday        32682\n",
       "        Sunday        32075\n",
       "Name: WeekDay, dtype: int64"
      ]
     },
     "execution_count": 272,
     "metadata": {},
     "output_type": "execute_result"
    }
   ],
   "source": [
    "# Trips By Base and Day of Week\n",
    "rides_base_weekday = df.groupby('Base').WeekDay.value_counts()\n",
    "rides_base_weekday"
   ]
  },
  {
   "cell_type": "code",
   "execution_count": 279,
   "id": "95064c18-6669-4a6c-a14a-2f022ba864ce",
   "metadata": {},
   "outputs": [
    {
     "data": {
      "text/html": [
       "<div>\n",
       "<style scoped>\n",
       "    .dataframe tbody tr th:only-of-type {\n",
       "        vertical-align: middle;\n",
       "    }\n",
       "\n",
       "    .dataframe tbody tr th {\n",
       "        vertical-align: top;\n",
       "    }\n",
       "\n",
       "    .dataframe thead th {\n",
       "        text-align: right;\n",
       "    }\n",
       "</style>\n",
       "<table border=\"1\" class=\"dataframe\">\n",
       "  <thead>\n",
       "    <tr style=\"text-align: right;\">\n",
       "      <th>Day</th>\n",
       "      <th>0</th>\n",
       "      <th>1</th>\n",
       "      <th>2</th>\n",
       "      <th>3</th>\n",
       "      <th>4</th>\n",
       "      <th>5</th>\n",
       "      <th>6</th>\n",
       "    </tr>\n",
       "    <tr>\n",
       "      <th>Hour</th>\n",
       "      <th></th>\n",
       "      <th></th>\n",
       "      <th></th>\n",
       "      <th></th>\n",
       "      <th></th>\n",
       "      <th></th>\n",
       "      <th></th>\n",
       "    </tr>\n",
       "  </thead>\n",
       "  <tbody>\n",
       "    <tr>\n",
       "      <th>0</th>\n",
       "      <td>6436</td>\n",
       "      <td>6237</td>\n",
       "      <td>7644</td>\n",
       "      <td>9293</td>\n",
       "      <td>13716</td>\n",
       "      <td>27633</td>\n",
       "      <td>32877</td>\n",
       "    </tr>\n",
       "    <tr>\n",
       "      <th>1</th>\n",
       "      <td>3737</td>\n",
       "      <td>3509</td>\n",
       "      <td>4324</td>\n",
       "      <td>5290</td>\n",
       "      <td>8163</td>\n",
       "      <td>19189</td>\n",
       "      <td>23015</td>\n",
       "    </tr>\n",
       "    <tr>\n",
       "      <th>2</th>\n",
       "      <td>2938</td>\n",
       "      <td>2571</td>\n",
       "      <td>3141</td>\n",
       "      <td>3719</td>\n",
       "      <td>5350</td>\n",
       "      <td>12710</td>\n",
       "      <td>15436</td>\n",
       "    </tr>\n",
       "    <tr>\n",
       "      <th>3</th>\n",
       "      <td>6232</td>\n",
       "      <td>4494</td>\n",
       "      <td>4855</td>\n",
       "      <td>5637</td>\n",
       "      <td>6930</td>\n",
       "      <td>9542</td>\n",
       "      <td>10597</td>\n",
       "    </tr>\n",
       "    <tr>\n",
       "      <th>4</th>\n",
       "      <td>9640</td>\n",
       "      <td>7548</td>\n",
       "      <td>7511</td>\n",
       "      <td>8505</td>\n",
       "      <td>8806</td>\n",
       "      <td>6846</td>\n",
       "      <td>6374</td>\n",
       "    </tr>\n",
       "  </tbody>\n",
       "</table>\n",
       "</div>"
      ],
      "text/plain": [
       "Day      0     1     2     3      4      5      6\n",
       "Hour                                             \n",
       "0     6436  6237  7644  9293  13716  27633  32877\n",
       "1     3737  3509  4324  5290   8163  19189  23015\n",
       "2     2938  2571  3141  3719   5350  12710  15436\n",
       "3     6232  4494  4855  5637   6930   9542  10597\n",
       "4     9640  7548  7511  8505   8806   6846   6374"
      ]
     },
     "execution_count": 279,
     "metadata": {},
     "output_type": "execute_result"
    }
   ],
   "source": [
    "# Return Trips By Day and Hour\n",
    "hour_day = df.groupby('Hour Day'.split()).apply(count_rows).unstack()\n",
    "hour_day.head()"
   ]
  },
  {
   "cell_type": "code",
   "execution_count": 280,
   "id": "0d14ad8d-f4cf-4be8-b70c-a1c7ed4a52f4",
   "metadata": {},
   "outputs": [
    {
     "data": {
      "image/png": "[encoded data removed]",
      "text/plain": [
       "<Figure size 864x576 with 2 Axes>"
      ]
     },
     "metadata": {
      "needs_background": "light"
     },
     "output_type": "display_data"
    }
   ],
   "source": [
    "# Heat Map of Trips By Day and Hour\n",
    "plt.figure(figsize = (12,8))\n",
    "\n",
    "#Using the seaborn heatmap function \n",
    "ax = sns.heatmap(hour_day, cmap=cm.YlGnBu, linewidth = .5)\n",
    "ax.set(title=\"Trips by Hour and Day\");"
   ]
  },
  {
   "cell_type": "code",
   "execution_count": 292,
   "id": "8ed75e2a-2516-4da4-a081-9ec8fcd2c8b3",
   "metadata": {},
   "outputs": [
    {
     "data": {
      "image/png": "[encoded data removed]",
      "text/plain": [
       "<Figure size 864x576 with 2 Axes>"
      ]
     },
     "metadata": {
      "needs_background": "light"
     },
     "output_type": "display_data"
    }
   ],
   "source": [
    "#Create & Return Month and Day dataframe\n",
    "month_day = df.groupby('MonthDay Month'.split()).apply(count_rows).unstack()\n",
    "month_day.head()\n",
    "\n",
    "# Heat Map of Month and Day\n",
    "plt.figure(figsize = (12,8))\n",
    "\n",
    "ax = sns.heatmap(month_day, linewidth = .5)\n",
    "ax.set(title=\"Trips by Month and Day\");"
   ]
  },
  {
   "cell_type": "code",
   "execution_count": 298,
   "id": "a504c89b-28d9-4a01-b23c-e3acbd1e8b94",
   "metadata": {},
   "outputs": [
    {
     "data": {
      "image/png": "[encoded data removed]",
      "text/plain": [
       "<Figure size 864x576 with 2 Axes>"
      ]
     },
     "metadata": {
      "needs_background": "light"
     },
     "output_type": "display_data"
    }
   ],
   "source": [
    "#Create & Return Month and Week Day dataframe\n",
    "month_weekday = df.groupby('Month WeekDay'.split(), sort = False).apply(count_rows).unstack()\n",
    "month_weekday.head()\n",
    "\n",
    "# Heat Map of Month and Week Day\n",
    "plt.figure(figsize = (12,8))\n",
    "\n",
    "ax = sns.heatmap(month_weekday, cmap=cm.YlGnBu, linewidth = .5)\n",
    "ax.set(title=\"Trips by Month and Weekday\");"
   ]
  },
  {
   "cell_type": "code",
   "execution_count": 287,
   "id": "affc3390-12c0-48fc-b5cc-992b0dd00188",
   "metadata": {},
   "outputs": [
    {
     "data": {
      "image/png": "[encoded data removed]",
      "text/plain": [
       "<Figure size 864x576 with 2 Axes>"
      ]
     },
     "metadata": {
      "needs_background": "light"
     },
     "output_type": "display_data"
    }
   ],
   "source": [
    "#Create & Return Month and Base dataframe\n",
    "month_base = df.groupby('Month Base'.split()).apply(count_rows).unstack()\n",
    "month_base.head()\n",
    "\n",
    "# Heat Map of Month and Base\n",
    "plt.figure(figsize = (12,8))\n",
    "\n",
    "ax = sns.heatmap(month_base, cmap=cm.YlGnBu, linewidth = .5)\n",
    "ax.set(title=\"Trips by Month and Base\");\n"
   ]
  },
  {
   "cell_type": "code",
   "execution_count": 297,
   "id": "a41f284a-9a8b-47db-ae25-ee093c67c602",
   "metadata": {},
   "outputs": [
    {
     "data": {
      "image/png": "[encoded data removed]",
      "text/plain": [
       "<Figure size 864x576 with 2 Axes>"
      ]
     },
     "metadata": {
      "needs_background": "light"
     },
     "output_type": "display_data"
    }
   ],
   "source": [
    "#Create & Return Base and Weekday dataframe\n",
    "base_weekday = df.groupby('Base WeekDay'.split(), sort = False).apply(count_rows).unstack()\n",
    "base_weekday.head()\n",
    "\n",
    "# Heat Map of Month and Base\n",
    "plt.figure(figsize = (12,8))\n",
    "\n",
    "ax = sns.heatmap(base_weekday, cmap=cm.YlGnBu, linewidth = .5)\n",
    "ax.set(title=\"Trips by Base and Weekday\");"
   ]
  },
  {
   "cell_type": "code",
   "execution_count": null,
   "id": "d9a7e80a-941f-4500-8270-1f87a287cd12",
   "metadata": {},
   "outputs": [],
   "source": []
  }
 ],
 "metadata": {
  "kernelspec": {
   "display_name": "Python 3",
   "language": "python",
   "name": "python3"
  },
  "language_info": {
   "codemirror_mode": {
    "name": "ipython",
    "version": 3
   },
   "file_extension": ".py",
   "mimetype": "text/x-python",
   "name": "python",
   "nbconvert_exporter": "python",
   "pygments_lexer": "ipython3",
   "version": "3.8.8"
  }
 },
 "nbformat": 4,
 "nbformat_minor": 5
}
